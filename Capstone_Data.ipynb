{
    "cells": [
        {
            "cell_type": "markdown",
            "metadata": {
                "collapsed": true
            },
            "source": "## Capstone Project: Opening a traditional dining restaurant in New Orleans by exploring different neighborhoods"
        },
        {
            "cell_type": "markdown",
            "metadata": {},
            "source": "#### By: Sara Rauf"
        },
        {
            "cell_type": "markdown",
            "metadata": {},
            "source": "### Description of Data:"
        },
        {
            "cell_type": "markdown",
            "metadata": {},
            "source": "There are various important factors when choosing the best location for a restaurant. In this project, the factors are as follows:\n* Which neighborhoods in New Orleans are well populated?\n* What are their coordinates?\n* Which areas have clusters of common Restaurants?\n* Other venue data from Foursquare - for instance parking availability.\n\nAll these factors are taken into consideration and the relevant data will be used to solve the business problem. Following are the data and data collection methods of this project: "
        },
        {
            "cell_type": "markdown",
            "metadata": {},
            "source": "#### 1.\tTotal Population by Parish in New Orleans Metro\n#### Method:\nNew Orleans city and Orleans Parish are interchangeable. They have the same population. However, we will take a good look at all the parishes in the New Orleans Metro area to see which parish is populous. This data will be scraped from https://www.datacenterresearch.org/data-resources/population-by-parish/."
        },
        {
            "cell_type": "markdown",
            "metadata": {},
            "source": "#### 2.\tTotal population by Zipcodes in New Orleans\n#### Method:\nThis data will be scraped from https://www.zipdatamaps.com/zipcodes-new-orleans-la in order to analyze which neighborhood area within a parish is populous.\n"
        },
        {
            "cell_type": "markdown",
            "metadata": {},
            "source": "#### 3.\tList of Latitudes and Longitudes of Neighborhoods in New Orleans from Wikipedia\n#### Method:\nThe url https://en.wikipedia.org/wiki/Neighborhoods_in_New_Orleans will be used to get latitudes and longitudes of the neighborhoods in New Orleans. The data analysis will be used further to plot the map and get venue data.\n"
        },
        {
            "cell_type": "markdown",
            "metadata": {},
            "source": "#### 4.\tOpen source Dataset of restaurants in New Orleans\n#### Method:\nFoursquare API will be used to download all venues from neighborhoods in New Orleans: https://api.foursquare.com and further perform data analysis on the data."
        },
        {
            "cell_type": "code",
            "execution_count": null,
            "metadata": {},
            "outputs": [],
            "source": ""
        }
    ],
    "metadata": {
        "kernelspec": {
            "display_name": "Python 3.7",
            "language": "python",
            "name": "python3"
        },
        "language_info": {
            "codemirror_mode": {
                "name": "ipython",
                "version": 3
            },
            "file_extension": ".py",
            "mimetype": "text/x-python",
            "name": "python",
            "nbconvert_exporter": "python",
            "pygments_lexer": "ipython3",
            "version": "3.7.9"
        }
    },
    "nbformat": 4,
    "nbformat_minor": 1
}