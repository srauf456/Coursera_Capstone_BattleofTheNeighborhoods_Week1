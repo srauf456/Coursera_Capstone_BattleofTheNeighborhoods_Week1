{
    "cells": [
        {
            "cell_type": "markdown",
            "metadata": {
                "collapsed": true
            },
            "source": "## Capstone Project: Opening a traditional dining restaurant in New Orleans by exploring different neighborhoods"
        },
        {
            "cell_type": "markdown",
            "metadata": {},
            "source": "#### By Sara Rauf"
        },
        {
            "cell_type": "markdown",
            "metadata": {},
            "source": "### Introduction and Description of Data:"
        },
        {
            "cell_type": "markdown",
            "metadata": {},
            "source": "New Orleans is the most populous city in Louisiana with a population of an estimated 390,144. It is world-renowned for food, music, festivals, and celebrations. Food is one of the main attractions in this historically and culturally rich city. In fact, New Orleans has its own cuisine called Cajun or Creole. "
        },
        {
            "cell_type": "markdown",
            "metadata": {},
            "source": "In 2005, New Orleans was majorly struck by Hurricane Katrina which flooded more than 80% of the city also causing a population decline of over 50%. The food industry was also heavily affected but many restaurants bounced back and since then the number of places to eat in the city has grown exponentially. "
        },
        {
            "cell_type": "markdown",
            "metadata": {},
            "source": "### Business Problem:"
        },
        {
            "cell_type": "markdown",
            "metadata": {},
            "source": "The main purpose of this project is to be able to analyze and choose the best neighborhood in New Orleans Metro area to open a restaurant. By using various Data Science tools and Foursquare location data, different geographical locations will be explored. The goal of opening a restaurant in New Orleans is not only to cater to tourists but to locals as well. "
        },
        {
            "cell_type": "markdown",
            "metadata": {},
            "source": "### Target Audience:"
        },
        {
            "cell_type": "markdown",
            "metadata": {},
            "source": "This data analysis is aimed towards all who are interested to open a successful restaurant in the city of New Orleans which resonates with the traditions as well as cultural values of the residents. This analysis could also be of interest to entrepreneurs willing to invest in restaurant businesses in different neighborhoods. It will specifically help any investor to carefully examine different locations along with their pros and cons and be able to evaluate whether the specific location will be best to open a restaurant."
        },
        {
            "cell_type": "markdown",
            "metadata": {},
            "source": ""
        }
    ],
    "metadata": {
        "kernelspec": {
            "display_name": "Python 3.7",
            "language": "python",
            "name": "python3"
        },
        "language_info": {
            "codemirror_mode": {
                "name": "ipython",
                "version": 3
            },
            "file_extension": ".py",
            "mimetype": "text/x-python",
            "name": "python",
            "nbconvert_exporter": "python",
            "pygments_lexer": "ipython3",
            "version": "3.7.9"
        }
    },
    "nbformat": 4,
    "nbformat_minor": 1
}